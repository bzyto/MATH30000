{
 "cells": [
  {
   "cell_type": "code",
   "execution_count": 15,
   "id": "a6454f13",
   "metadata": {},
   "outputs": [],
   "source": [
    "# Jupyter notebook used to find angular velocities in Euler angles"
   ]
  },
  {
   "cell_type": "code",
   "execution_count": 16,
   "id": "57e6b543",
   "metadata": {
    "scrolled": false
   },
   "outputs": [
    {
     "name": "stdout",
     "output_type": "stream",
     "text": [
      "IPython console for SymPy 1.11.1 (Python 3.10.6-64-bit) (ground types: python)\n",
      "\n",
      "These commands were executed:\n",
      ">>> from sympy import *\n",
      ">>> x, y, z, t = symbols('x y z t')\n",
      ">>> k, m, n = symbols('k m n', integer=True)\n",
      ">>> f, g, h = symbols('f g h', cls=Function)\n",
      ">>> init_printing()\n",
      "\n",
      "Documentation can be found at https://docs.sympy.org/1.11.1/\n",
      "\n"
     ]
    }
   ],
   "source": [
    "import sympy as sp\n",
    "from sympy import S\n",
    "from sympy.abc import _clash2\n",
    "import numpy as np\n",
    "from sympy import init_session\n",
    "init_session() "
   ]
  },
  {
   "cell_type": "code",
   "execution_count": 17,
   "id": "90f82cb1",
   "metadata": {},
   "outputs": [],
   "source": [
    "# defining variables theta, psi, phi as functions of time"
   ]
  },
  {
   "cell_type": "code",
   "execution_count": 18,
   "id": "ad7544e0",
   "metadata": {},
   "outputs": [],
   "source": [
    "theta=S('theta(t)', locals=_clash2)\n",
    "phi=S('phi(t)', locals=_clash2)\n",
    "psi=S('psi(t)', locals=_clash2)"
   ]
  },
  {
   "cell_type": "code",
   "execution_count": 19,
   "id": "e0569c69",
   "metadata": {},
   "outputs": [
    {
     "data": {
      "image/png": "[encoded data removed]",
      "text/latex": [
       "$\\displaystyle \\theta{\\left(t \\right)}$"
      ],
      "text/plain": [
       "θ(t)"
      ]
     },
     "execution_count": 19,
     "metadata": {},
     "output_type": "execute_result"
    }
   ],
   "source": [
    "theta ##check"
   ]
  },
  {
   "cell_type": "code",
   "execution_count": 20,
   "id": "64e16ecf",
   "metadata": {},
   "outputs": [],
   "source": [
    "# Defining rotaion matrix as obtained in the project"
   ]
  },
  {
   "cell_type": "code",
   "execution_count": 21,
   "id": "e70748bd",
   "metadata": {},
   "outputs": [
    {
     "data": {
      "text/latex": [
       "$\\displaystyle \\left[\\begin{matrix}- \\sin{\\left(\\phi{\\left(t \\right)} \\right)} \\sin{\\left(\\psi{\\left(t \\right)} \\right)} \\cos{\\left(\\theta{\\left(t \\right)} \\right)} + \\cos{\\left(\\phi{\\left(t \\right)} \\right)} \\cos{\\left(\\psi{\\left(t \\right)} \\right)} & - \\sin{\\left(\\phi{\\left(t \\right)} \\right)} \\cos{\\left(\\psi{\\left(t \\right)} \\right)} \\cos{\\left(\\theta{\\left(t \\right)} \\right)} - \\sin{\\left(\\psi{\\left(t \\right)} \\right)} \\cos{\\left(\\phi{\\left(t \\right)} \\right)} & \\sin{\\left(\\phi{\\left(t \\right)} \\right)} \\sin{\\left(\\theta{\\left(t \\right)} \\right)}\\\\\\sin{\\left(\\phi{\\left(t \\right)} \\right)} \\cos{\\left(\\psi{\\left(t \\right)} \\right)} + \\sin{\\left(\\psi{\\left(t \\right)} \\right)} \\cos{\\left(\\phi{\\left(t \\right)} \\right)} \\cos{\\left(\\theta{\\left(t \\right)} \\right)} & - \\sin{\\left(\\phi{\\left(t \\right)} \\right)} \\sin{\\left(\\psi{\\left(t \\right)} \\right)} + \\cos{\\left(\\phi{\\left(t \\right)} \\right)} \\cos{\\left(\\psi{\\left(t \\right)} \\right)} \\cos{\\left(\\theta{\\left(t \\right)} \\right)} & - \\sin{\\left(\\theta{\\left(t \\right)} \\right)} \\cos{\\left(\\phi{\\left(t \\right)} \\right)}\\\\\\sin{\\left(\\psi{\\left(t \\right)} \\right)} \\sin{\\left(\\theta{\\left(t \\right)} \\right)} & \\sin{\\left(\\theta{\\left(t \\right)} \\right)} \\cos{\\left(\\psi{\\left(t \\right)} \\right)} & \\cos{\\left(\\theta{\\left(t \\right)} \\right)}\\end{matrix}\\right]$"
      ],
      "text/plain": [
       "⎡-sin(φ(t))⋅sin(ψ(t))⋅cos(θ(t)) + cos(φ(t))⋅cos(ψ(t))  -sin(φ(t))⋅cos(ψ(t))⋅cos(θ(t)) - sin(ψ(t))⋅cos(φ(t))  sin(φ(t))\n",
       "⎢                                                                                                                     \n",
       "⎢sin(φ(t))⋅cos(ψ(t)) + sin(ψ(t))⋅cos(φ(t))⋅cos(θ(t))   -sin(φ(t))⋅sin(ψ(t)) + cos(φ(t))⋅cos(ψ(t))⋅cos(θ(t))  -sin(θ(t)\n",
       "⎢                                                                                                                     \n",
       "⎣                sin(ψ(t))⋅sin(θ(t))                                   sin(θ(t))⋅cos(ψ(t))                        cos(\n",
       "\n",
       "⋅sin(θ(t)) ⎤\n",
       "           ⎥\n",
       ")⋅cos(φ(t))⎥\n",
       "           ⎥\n",
       "θ(t))      ⎦"
      ]
     },
     "execution_count": 21,
     "metadata": {},
     "output_type": "execute_result"
    }
   ],
   "source": [
    "R1=sp.Array([cos(psi)*cos(phi)-cos(theta)*sin(phi)*sin(psi), cos(psi)*sin(phi)+cos(theta)*cos(phi)*sin(psi), sin(psi)*sin(theta)])\n",
    "R2=sp.Array([-sin(psi)*cos(phi)-cos(theta)*sin(phi)*cos(psi), -sin(psi)*sin(phi)+cos(theta)*cos(phi)*cos(psi), cos(psi)*sin(theta)])\n",
    "R3=sp.Array([sin(theta)*sin(phi), -sin(theta)*cos(phi), cos(theta)])\n",
    "R=sp.Matrix([R1, R2, R3])\n",
    "R=R.transpose()\n",
    "R"
   ]
  },
  {
   "cell_type": "code",
   "execution_count": 22,
   "id": "fcca3ae2",
   "metadata": {},
   "outputs": [],
   "source": [
    "## Using the recontruction equation"
   ]
  },
  {
   "cell_type": "code",
   "execution_count": 23,
   "id": "2cfdee4e",
   "metadata": {},
   "outputs": [
    {
     "data": {
      "text/latex": [
       "$\\displaystyle \\left[\\begin{matrix}0 & - \\cos{\\left(\\theta{\\left(t \\right)} \\right)} \\frac{d}{d t} \\phi{\\left(t \\right)} - \\frac{d}{d t} \\psi{\\left(t \\right)} & - \\sin{\\left(\\psi{\\left(t \\right)} \\right)} \\frac{d}{d t} \\theta{\\left(t \\right)} + \\sin{\\left(\\theta{\\left(t \\right)} \\right)} \\cos{\\left(\\psi{\\left(t \\right)} \\right)} \\frac{d}{d t} \\phi{\\left(t \\right)}\\\\\\cos{\\left(\\theta{\\left(t \\right)} \\right)} \\frac{d}{d t} \\phi{\\left(t \\right)} + \\frac{d}{d t} \\psi{\\left(t \\right)} & 0 & - \\sin{\\left(\\psi{\\left(t \\right)} \\right)} \\sin{\\left(\\theta{\\left(t \\right)} \\right)} \\frac{d}{d t} \\phi{\\left(t \\right)} - \\cos{\\left(\\psi{\\left(t \\right)} \\right)} \\frac{d}{d t} \\theta{\\left(t \\right)}\\\\\\sin{\\left(\\psi{\\left(t \\right)} \\right)} \\frac{d}{d t} \\theta{\\left(t \\right)} - \\sin{\\left(\\theta{\\left(t \\right)} \\right)} \\cos{\\left(\\psi{\\left(t \\right)} \\right)} \\frac{d}{d t} \\phi{\\left(t \\right)} & \\sin{\\left(\\psi{\\left(t \\right)} \\right)} \\sin{\\left(\\theta{\\left(t \\right)} \\right)} \\frac{d}{d t} \\phi{\\left(t \\right)} + \\cos{\\left(\\psi{\\left(t \\right)} \\right)} \\frac{d}{d t} \\theta{\\left(t \\right)} & 0\\end{matrix}\\right]$"
      ],
      "text/plain": [
       "⎡                                                                        d          d                              d  \n",
       "⎢                        0                                   - cos(θ(t))⋅──(φ(t)) - ──(ψ(t))           - sin(ψ(t))⋅──(\n",
       "⎢                                                                        dt         dt                             dt \n",
       "⎢                                                                                                                     \n",
       "⎢                    d          d                                                                                     \n",
       "⎢          cos(θ(t))⋅──(φ(t)) + ──(ψ(t))                                    0                          - sin(ψ(t))⋅sin\n",
       "⎢                    dt         dt                                                                                    \n",
       "⎢                                                                                                                     \n",
       "⎢          d                              d                             d                    d                        \n",
       "⎢sin(ψ(t))⋅──(θ(t)) - sin(θ(t))⋅cos(ψ(t))⋅──(φ(t))  sin(ψ(t))⋅sin(θ(t))⋅──(φ(t)) + cos(ψ(t))⋅──(θ(t))                 \n",
       "⎣          dt                             dt                            dt                   dt                       \n",
       "\n",
       "                            d       ⎤\n",
       "θ(t)) + sin(θ(t))⋅cos(ψ(t))⋅──(φ(t))⎥\n",
       "                            dt      ⎥\n",
       "                                    ⎥\n",
       "       d                    d       ⎥\n",
       "(θ(t))⋅──(φ(t)) - cos(ψ(t))⋅──(θ(t))⎥\n",
       "       dt                   dt      ⎥\n",
       "                                    ⎥\n",
       "                                    ⎥\n",
       "          0                         ⎥\n",
       "                                    ⎦"
      ]
     },
     "execution_count": 23,
     "metadata": {},
     "output_type": "execute_result"
    }
   ],
   "source": [
    "hOm=R.transpose()*R.diff(t)\n",
    "hOm.simplify()\n",
    "hOm"
   ]
  },
  {
   "cell_type": "code",
   "execution_count": 24,
   "id": "a29cf46a",
   "metadata": {},
   "outputs": [],
   "source": [
    "#We arrive at angular velocity in body coordinates. Similarly we can calculate \\hat\\omega ie angular velocity\n",
    "#in spatial coordinates.\n"
   ]
  },
  {
   "cell_type": "code",
   "execution_count": 25,
   "id": "60454a92",
   "metadata": {},
   "outputs": [
    {
     "data": {
      "text/latex": [
       "$\\displaystyle \\left[\\begin{matrix}0 & - \\cos{\\left(\\theta{\\left(t \\right)} \\right)} \\frac{d}{d t} \\psi{\\left(t \\right)} - \\frac{d}{d t} \\phi{\\left(t \\right)} & \\sin{\\left(\\phi{\\left(t \\right)} \\right)} \\frac{d}{d t} \\theta{\\left(t \\right)} - \\sin{\\left(\\theta{\\left(t \\right)} \\right)} \\cos{\\left(\\phi{\\left(t \\right)} \\right)} \\frac{d}{d t} \\psi{\\left(t \\right)}\\\\\\cos{\\left(\\theta{\\left(t \\right)} \\right)} \\frac{d}{d t} \\psi{\\left(t \\right)} + \\frac{d}{d t} \\phi{\\left(t \\right)} & 0 & - \\sin{\\left(\\phi{\\left(t \\right)} \\right)} \\sin{\\left(\\theta{\\left(t \\right)} \\right)} \\frac{d}{d t} \\psi{\\left(t \\right)} - \\cos{\\left(\\phi{\\left(t \\right)} \\right)} \\frac{d}{d t} \\theta{\\left(t \\right)}\\\\- \\sin{\\left(\\phi{\\left(t \\right)} \\right)} \\frac{d}{d t} \\theta{\\left(t \\right)} + \\sin{\\left(\\theta{\\left(t \\right)} \\right)} \\cos{\\left(\\phi{\\left(t \\right)} \\right)} \\frac{d}{d t} \\psi{\\left(t \\right)} & \\sin{\\left(\\phi{\\left(t \\right)} \\right)} \\sin{\\left(\\theta{\\left(t \\right)} \\right)} \\frac{d}{d t} \\psi{\\left(t \\right)} + \\cos{\\left(\\phi{\\left(t \\right)} \\right)} \\frac{d}{d t} \\theta{\\left(t \\right)} & 0\\end{matrix}\\right]$"
      ],
      "text/plain": [
       "⎡                                                                          d          d                             d \n",
       "⎢                         0                                    - cos(θ(t))⋅──(ψ(t)) - ──(φ(t))            sin(φ(t))⋅──\n",
       "⎢                                                                          dt         dt                            dt\n",
       "⎢                                                                                                                     \n",
       "⎢                     d          d                                                                                    \n",
       "⎢           cos(θ(t))⋅──(ψ(t)) + ──(φ(t))                                     0                          - sin(φ(t))⋅s\n",
       "⎢                     dt         dt                                                                                   \n",
       "⎢                                                                                                                     \n",
       "⎢            d                              d                             d                    d                      \n",
       "⎢- sin(φ(t))⋅──(θ(t)) + sin(θ(t))⋅cos(φ(t))⋅──(ψ(t))  sin(φ(t))⋅sin(θ(t))⋅──(ψ(t)) + cos(φ(t))⋅──(θ(t))               \n",
       "⎣            dt                             dt                            dt                   dt                     \n",
       "\n",
       "                             d        ⎤\n",
       "(θ(t)) - sin(θ(t))⋅cos(φ(t))⋅──(ψ(t)) ⎥\n",
       "                             dt       ⎥\n",
       "                                      ⎥\n",
       "         d                    d       ⎥\n",
       "in(θ(t))⋅──(ψ(t)) - cos(φ(t))⋅──(θ(t))⎥\n",
       "         dt                   dt      ⎥\n",
       "                                      ⎥\n",
       "                                      ⎥\n",
       "            0                         ⎥\n",
       "                                      ⎦"
      ]
     },
     "execution_count": 25,
     "metadata": {},
     "output_type": "execute_result"
    }
   ],
   "source": [
    "hom=R.diff(t)*R.transpose()\n",
    "hom.simplify()\n",
    "hom"
   ]
  },
  {
   "cell_type": "code",
   "execution_count": null,
   "id": "01cc402a",
   "metadata": {},
   "outputs": [],
   "source": []
  },
  {
   "cell_type": "code",
   "execution_count": null,
   "id": "f136ff58",
   "metadata": {},
   "outputs": [],
   "source": []
  }
 ],
 "metadata": {
  "kernelspec": {
   "display_name": "Python 3 (ipykernel)",
   "language": "python",
   "name": "python3"
  },
  "language_info": {
   "codemirror_mode": {
    "name": "ipython",
    "version": 3
   },
   "file_extension": ".py",
   "mimetype": "text/x-python",
   "name": "python",
   "nbconvert_exporter": "python",
   "pygments_lexer": "ipython3",
   "version": "3.10.6"
  }
 },
 "nbformat": 4,
 "nbformat_minor": 5
}
